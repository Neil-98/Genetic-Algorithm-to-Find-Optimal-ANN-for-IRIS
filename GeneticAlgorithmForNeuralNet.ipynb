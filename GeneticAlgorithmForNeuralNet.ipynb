{
  "nbformat": 4,
  "nbformat_minor": 0,
  "metadata": {
    "kernelspec": {
      "display_name": "Python 3",
      "language": "python",
      "name": "python3"
    },
    "language_info": {
      "codemirror_mode": {
        "name": "ipython",
        "version": 3
      },
      "file_extension": ".py",
      "mimetype": "text/x-python",
      "name": "python",
      "nbconvert_exporter": "python",
      "pygments_lexer": "ipython3",
      "version": "3.7.4"
    },
    "colab": {
      "name": "GeneticAlgorithmForNeuralNet.ipynb",
      "provenance": [],
      "collapsed_sections": []
    },
    "accelerator": "GPU"
  },
  "cells": [
    {
      "cell_type": "code",
      "metadata": {
        "id": "mTByv2TEwGql",
        "colab_type": "code",
        "colab": {}
      },
      "source": [
        "import tensorflow as tf\n",
        "from sklearn import datasets\n",
        "import numpy as np\n",
        "import matplotlib.pyplot as plt\n",
        "from sklearn.metrics import accuracy_score\n",
        "from sklearn.model_selection import train_test_split\n",
        "from random import randint\n",
        "import random\n",
        "from sklearn import preprocessing\n",
        "\n",
        "iris = datasets.load_iris()\n",
        "X = iris.data\n",
        "y = iris.target\n",
        "\n",
        "\n",
        "X_train, X_test, y_train, y_test = train_test_split(X, y, test_size=0.20, random_state=42)\n"
      ],
      "execution_count": 0,
      "outputs": []
    },
    {
      "cell_type": "code",
      "metadata": {
        "id": "fpUHPRn4wGqq",
        "colab_type": "code",
        "colab": {}
      },
      "source": [
        "#Neural network module\n",
        "from keras.models import Sequential \n",
        "from keras.layers import Dense,Activation,Dropout \n",
        "from keras.layers.normalization import BatchNormalization \n",
        "from keras.utils import to_categorical"
      ],
      "execution_count": 0,
      "outputs": []
    },
    {
      "cell_type": "code",
      "metadata": {
        "id": "Ltu30-POwGqt",
        "colab_type": "code",
        "colab": {}
      },
      "source": [
        "def initialize_population(population_size):\n",
        "    activation = ['tanh', 'sigmoid', 'relu']\n",
        "    optimizer = ['sgd', 'rmsprop', 'adam']\n",
        "    pop = np.array([[random.choice(activation), random.choice(optimizer), randint(2,100),randint(2,50)]])\n",
        "    for i in range(0, population_size-1):\n",
        "        pop = np.append(pop, [[random.choice(activation), random.choice(optimizer), randint(2,100),randint(2,50)]], axis = 0)\n",
        "    return pop"
      ],
      "execution_count": 0,
      "outputs": []
    },
    {
      "cell_type": "code",
      "metadata": {
        "id": "-MWLagHXwGqw",
        "colab_type": "code",
        "colab": {}
      },
      "source": [
        "def crossover(parent_1, parent_2):\n",
        "    child = [parent_1[0], parent_2[1], parent_1[2], parent_2[3]]    \n",
        "    return child"
      ],
      "execution_count": 0,
      "outputs": []
    },
    {
      "cell_type": "code",
      "metadata": {
        "id": "5xgW399iwGqz",
        "colab_type": "code",
        "colab": {}
      },
      "source": [
        "def mutate(child, prob_mut):\n",
        "    child_ = np.copy(child)\n",
        "    for c in range(0, len(child_)):\n",
        "        if np.random.rand() >= prob_mut:\n",
        "            k = randint(2,3)\n",
        "            child_[c,k] = int(child_[c,k]) + randint(1, 4)\n",
        "    return child_"
      ],
      "execution_count": 0,
      "outputs": []
    },
    {
      "cell_type": "code",
      "metadata": {
        "id": "PndT7zE_wGq1",
        "colab_type": "code",
        "colab": {}
      },
      "source": [
        "def function_fitness_keras(pop, X_train, y_train, X_test, y_test):\n",
        "    fitness = []\n",
        "    j = 0\n",
        "    for w in pop:\n",
        "        \n",
        "        model = Sequential()\n",
        "        model.add(Dense(int(w[2]), input_dim = 4, activation = w[0]))\n",
        "        model.add(Dense(int(w[3]), activation = w[0]))\n",
        "        model.add(Dropout(0.2))\n",
        "        model.add(Dense(3, activation = 'softmax'))\n",
        "        model.compile(loss = 'categorical_crossentropy', optimizer = w[1], metrics = ['accuracy'])\n",
        "        \n",
        "        try:\n",
        "            print('Model ', j, ':')\n",
        "            j = j + 1\n",
        "        \n",
        "            model.fit(X_train, y_train, batch_size = 20, epochs = 10, verbose = 0)\n",
        "            y_label = np.argmax(y_test, axis = 1)\n",
        "            predict_label = model.predict_classes(X_test)\n",
        "            f = np.sum(predict_label == y_label) / len(y_test)\n",
        "        \n",
        "            print(f)\n",
        "            fitness.append([f, model, w])\n",
        "        except:\n",
        "            pass\n",
        "    return fitness"
      ],
      "execution_count": 0,
      "outputs": []
    },
    {
      "cell_type": "code",
      "metadata": {
        "id": "68ZG0XFvwGq3",
        "colab_type": "code",
        "colab": {}
      },
      "source": [
        "def ga_keras(X_train, y_train, X_test, y_test, num_epochs = 10, population_size = 10, prob_mut = 0.8):\n",
        "    pop = initialize_population(population_size)\n",
        "    fitness = function_fitness_keras(pop,  X_train, y_train, X_test, y_test)\n",
        "    print('shape of fitness = ', np.shape(fitness))\n",
        "    \n",
        "    pop_fitness_sort = np.array(list(reversed(sorted(fitness,key=lambda x: x[0]))))\n",
        "\n",
        "    print('shape of pop_fitness_sort = ', pop_fitness_sort.shape)\n",
        "    \n",
        "    for j in range(0, num_epochs):\n",
        "        print('--------- Iteration ', j, ' ----------')\n",
        "        \n",
        "        length = len(pop_fitness_sort)\n",
        "        # Selection of Parents\n",
        "        parent_1 = pop_fitness_sort[:,2][:length//2]\n",
        "        parent_2 = pop_fitness_sort[:,2][length//2:]\n",
        "\n",
        "        print('Parent selection done')\n",
        "        \n",
        "        # Crossover and Mutation\n",
        "        child_1 = [crossover(parent_1[i], parent_2[i]) for i in range(0, np.min([len(parent_2), len(parent_1)]))]\n",
        "        child_2 = [crossover(parent_2[i], parent_1[i]) for i in range(0, np.min([len(parent_2), len(parent_1)]))]\n",
        "        child_2 = mutate(child_2, prob_mut)\n",
        "        \n",
        "        print('Crossover and mutation done')\n",
        "        \n",
        "        # Calculation of fitness and sorting by best fitness to worst\n",
        "        fitness_child_1 = function_fitness_keras(child_1,X_train, y_train, X_test, y_test)\n",
        "        fitness_child_2 = function_fitness_keras(child_2, X_train, y_train, X_test, y_test)\n",
        "        pop_fitness_sort = np.concatenate((pop_fitness_sort, fitness_child_1, fitness_child_2))\n",
        "        sort = np.array(list(reversed(sorted(pop_fitness_sort,key=lambda x: x[0]))))\n",
        "        \n",
        "        print('Fitness calculated')\n",
        "        \n",
        "        # Selection of Best Individual, i.e., the fittest chromosome \n",
        "        pop_fitness_sort = sort[0:population_size, :]\n",
        "        print('Best fitness = ', sort[0][0])\n",
        "        best_individual = sort[0][1]\n",
        "        \n",
        "    return best_individual"
      ],
      "execution_count": 0,
      "outputs": []
    },
    {
      "cell_type": "code",
      "metadata": {
        "id": "DbsQip4ywGq6",
        "colab_type": "code",
        "colab": {}
      },
      "source": [
        "# labels_to_categorical\n",
        "y_train_cat = to_categorical(y_train)\n",
        "y_test_cat = to_categorical(y_test)"
      ],
      "execution_count": 0,
      "outputs": []
    },
    {
      "cell_type": "code",
      "metadata": {
        "id": "mMXyF6mO2udt",
        "colab_type": "code",
        "colab": {}
      },
      "source": [
        "# StandardScaler\n",
        "scaler = preprocessing.StandardScaler()"
      ],
      "execution_count": 0,
      "outputs": []
    },
    {
      "cell_type": "code",
      "metadata": {
        "id": "AwPH1a1ewGq9",
        "colab_type": "code",
        "colab": {}
      },
      "source": [
        "# scale_features\n",
        "X_train_normalized = scaler.fit_transform(X_train)\n",
        "X_test_normalized = scaler.transform(X_test)"
      ],
      "execution_count": 0,
      "outputs": []
    },
    {
      "cell_type": "code",
      "metadata": {
        "id": "sm7_tCZHwGq_",
        "colab_type": "code",
        "outputId": "02f080b0-4aea-4186-cb56-403ce6ad840a",
        "colab": {
          "base_uri": "https://localhost:8080/",
          "height": 1000
        }
      },
      "source": [
        "best_model = ga_keras(X_train_normalized, y_train_cat, X_test_normalized, y_test_cat, num_epochs = 5, population_size = 10, prob_mut = 0.8)\n",
        "# print (np.sum(best_model.predict(X_test_normalized) == y_test_cat) / len(y_test_cat)) # print accuracy of best_individual"
      ],
      "execution_count": 33,
      "outputs": [
        {
          "output_type": "stream",
          "text": [
            "Model  0 :\n",
            "0.8666666666666667\n",
            "Model  1 :\n",
            "0.9\n",
            "Model  2 :\n",
            "0.8666666666666667\n",
            "Model  3 :\n",
            "0.6333333333333333\n",
            "Model  4 :\n",
            "0.9\n",
            "Model  5 :\n",
            "0.8\n",
            "Model  6 :\n",
            "0.3333333333333333\n",
            "Model  7 :\n",
            "0.7666666666666667\n",
            "Model  8 :\n",
            "0.3\n",
            "Model  9 :\n",
            "0.9\n",
            "shape of fitness =  (10, 3)\n",
            "shape of pop_fitness_sort =  (10, 3)\n",
            "--------- Iteration  0  ----------\n",
            "Parent selection done\n",
            "Crossover and mutation done\n",
            "Model  0 :\n",
            "0.8666666666666667\n",
            "Model  1 :\n",
            "0.9\n",
            "Model  2 :\n",
            "0.9333333333333333\n",
            "Model  3 :\n",
            "0.7333333333333333\n",
            "Model  4 :\n",
            "0.5666666666666667\n",
            "Model  0 :\n",
            "0.26666666666666666\n",
            "Model  1 :\n",
            "0.7666666666666667\n",
            "Model  2 :\n",
            "0.6666666666666666\n",
            "Model  3 :\n",
            "0.7\n",
            "Model  4 :\n",
            "0.3333333333333333\n",
            "Fitness calculated\n",
            "Best fitness =  0.9333333333333333\n",
            "--------- Iteration  1  ----------\n",
            "Parent selection done\n",
            "Crossover and mutation done\n",
            "Model  0 :\n",
            "0.9333333333333333\n",
            "Model  1 :\n",
            "0.9\n",
            "Model  2 :\n",
            "0.9\n",
            "Model  3 :\n",
            "0.9333333333333333\n",
            "Model  4 :\n",
            "0.4666666666666667\n",
            "Model  0 :\n",
            "0.9\n",
            "Model  1 :\n",
            "0.6\n",
            "Model  2 :\n",
            "0.8666666666666667\n",
            "Model  3 :\n",
            "0.3333333333333333\n",
            "Model  4 :\n",
            "0.9\n",
            "Fitness calculated\n",
            "Best fitness =  0.9333333333333333\n",
            "--------- Iteration  2  ----------\n",
            "Parent selection done\n",
            "Crossover and mutation done\n",
            "Model  0 :\n",
            "0.8666666666666667\n",
            "Model  1 :\n",
            "0.9\n",
            "Model  2 :\n",
            "0.9\n",
            "Model  3 :\n",
            "0.7666666666666667\n",
            "Model  4 :\n",
            "0.8666666666666667\n",
            "Model  0 :\n",
            "0.9333333333333333\n",
            "Model  1 :\n",
            "0.9666666666666667\n",
            "Model  2 :\n",
            "0.9333333333333333\n",
            "Model  3 :\n",
            "0.9\n",
            "Model  4 :\n",
            "0.9666666666666667\n",
            "Fitness calculated\n",
            "Best fitness =  0.9666666666666667\n",
            "--------- Iteration  3  ----------\n",
            "Parent selection done\n",
            "Crossover and mutation done\n",
            "Model  0 :\n",
            "0.9333333333333333\n",
            "Model  1 :\n",
            "0.9666666666666667\n",
            "Model  2 :\n",
            "0.9\n",
            "Model  3 :\n",
            "0.9\n",
            "Model  4 :\n",
            "0.8666666666666667\n",
            "Model  0 :\n",
            "0.9666666666666667\n",
            "Model  1 :\n",
            "0.9666666666666667\n",
            "Model  2 :\n",
            "0.9666666666666667\n",
            "Model  3 :\n",
            "0.9333333333333333\n",
            "Model  4 :\n",
            "0.9666666666666667\n",
            "Fitness calculated\n",
            "Best fitness =  0.9666666666666667\n",
            "--------- Iteration  4  ----------\n",
            "Parent selection done\n",
            "Crossover and mutation done\n",
            "Model  0 :\n",
            "0.9333333333333333\n",
            "Model  1 :\n",
            "0.9666666666666667\n",
            "Model  2 :\n",
            "0.9666666666666667\n",
            "Model  3 :\n",
            "0.9333333333333333\n",
            "Model  4 :\n",
            "0.9666666666666667\n",
            "Model  0 :\n",
            "0.9666666666666667\n",
            "Model  1 :\n",
            "0.9333333333333333\n",
            "Model  2 :\n",
            "0.9\n",
            "Model  3 :\n",
            "0.9333333333333333\n",
            "Model  4 :\n",
            "0.9666666666666667\n",
            "Fitness calculated\n",
            "Best fitness =  0.9666666666666667\n"
          ],
          "name": "stdout"
        }
      ]
    },
    {
      "cell_type": "code",
      "metadata": {
        "id": "hvnb12NbwGrB",
        "colab_type": "code",
        "outputId": "15c909a5-6a58-46af-eb62-6c9aebc3b869",
        "colab": {
          "base_uri": "https://localhost:8080/",
          "height": 34
        }
      },
      "source": [
        "y_label = np.argmax(y_test_cat, axis = 1)\n",
        "predict_label = best_model.predict_classes(X_test_normalized)\n",
        "f = np.sum(predict_label == y_label) / len(y_test_cat)\n",
        "print(f)"
      ],
      "execution_count": 34,
      "outputs": [
        {
          "output_type": "stream",
          "text": [
            "0.9666666666666667\n"
          ],
          "name": "stdout"
        }
      ]
    },
    {
      "cell_type": "code",
      "metadata": {
        "id": "DMseCLaEwGrD",
        "colab_type": "code",
        "outputId": "098e759a-e795-47cd-c239-a564623a26e1",
        "colab": {
          "base_uri": "https://localhost:8080/",
          "height": 295
        }
      },
      "source": [
        "best_model.summary()"
      ],
      "execution_count": 35,
      "outputs": [
        {
          "output_type": "stream",
          "text": [
            "Model: \"sequential_338\"\n",
            "_________________________________________________________________\n",
            "Layer (type)                 Output Shape              Param #   \n",
            "=================================================================\n",
            "dense_1010 (Dense)           (None, 100)               500       \n",
            "_________________________________________________________________\n",
            "dense_1011 (Dense)           (None, 25)                2525      \n",
            "_________________________________________________________________\n",
            "dropout_337 (Dropout)        (None, 25)                0         \n",
            "_________________________________________________________________\n",
            "dense_1012 (Dense)           (None, 3)                 78        \n",
            "=================================================================\n",
            "Total params: 3,103\n",
            "Trainable params: 3,103\n",
            "Non-trainable params: 0\n",
            "_________________________________________________________________\n"
          ],
          "name": "stdout"
        }
      ]
    }
  ]
}